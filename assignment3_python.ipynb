{
 "cells": [
  {
   "cell_type": "markdown",
   "metadata": {},
   "source": [
    "<img src=\"https://datasciencedegree.wisconsin.edu/wp-content/themes/data-gulp/images/logo.svg\" width=\"300\">\n"
   ]
  },
  {
   "cell_type": "markdown",
   "metadata": {},
   "source": [
    "# Assignment 3\n",
    "\n",
    "Let's do functions!  Some short and sweet opportunities to practice."
   ]
  },
  {
   "cell_type": "markdown",
   "metadata": {},
   "source": [
    "## Problem 1\n",
    "\n",
    "🎯Write a function that takes in an arbitrary list of numeric triples (tuples of size 3), and returns a new list containing the maximum elements from each"
   ]
  },
  {
   "cell_type": "code",
   "execution_count": 59,
   "metadata": {},
   "outputs": [
    {
     "name": "stdout",
     "output_type": "stream",
     "text": [
      "66\n"
     ]
    }
   ],
   "source": [
    "def triples(tup): \n",
    "    if (tup[0] >= tup[1]) and (tup[0] >= tup[2]) :\n",
    "        newmax = tup[0]\n",
    "    if (tup[1] >= tup[0]) and (tup[1] >= tup[2]) :\n",
    "        newmax = tup[1]\n",
    "    if (tup[2] >= tup[0]) and (tup[2] >= tup[1]):\n",
    "        newmax = tup[2]\n",
    "    return newmax\n",
    "\n",
    "trip = (34,55,66)\n",
    "x = triples(trip)\n",
    "print (x)"
   ]
  },
  {
   "cell_type": "markdown",
   "metadata": {},
   "source": [
    "## Problem 2\n",
    "\n",
    "🎯Write a function that takes no arguments, gets the current time, and returns to the caller the integer number of minutes left in the current day (til midnight 🌃)"
   ]
  },
  {
   "cell_type": "code",
   "execution_count": 47,
   "metadata": {},
   "outputs": [
    {
     "name": "stdout",
     "output_type": "stream",
     "text": [
      "516\n"
     ]
    }
   ],
   "source": [
    "import datetime\n",
    "\n",
    "def minutes_left():\n",
    "    now = datetime.datetime.now()\n",
    "    return_hr = (24 - now.hour)        # Subtract Midnight (24th Hour) from the current hour.\n",
    "    return_min = (60 - now.minute)     # Subtract 60 from current minute.\n",
    "    return_value = (return_hr * 60) + return_min  # Convert Return Hour to Minutes (*60) and add remaining mins left.\n",
    "    return return_value\n",
    "\n",
    "nowx = minutes_left()\n",
    "\n",
    "print(nowx)"
   ]
  },
  {
   "cell_type": "markdown",
   "metadata": {},
   "source": [
    "## Problem 3\n",
    "\n",
    "🎯Rewrite your code from the mortgage calculator from the Python part of Assignment 2 to use functions.  \n",
    "- No magic constants\n",
    "- Well-named parameters\n",
    "- Returning where appropriate\n",
    "\n",
    "You must use (and call, ha) at least three functions total."
   ]
  },
  {
   "cell_type": "code",
   "execution_count": 54,
   "metadata": {},
   "outputs": [
    {
     "name": "stdout",
     "output_type": "stream",
     "text": [
      "Please enter the principal:5000\n",
      "please enter the yearly interest rate.  ie 5 for 5%:5\n",
      "please enter the monthly payment:456\n",
      "month_count monthly_payment principal_payment remaining_balance\n",
      "1           456             20.83             4564.83\n",
      "2           456             19.02             4127.85\n",
      "3           456             17.2             3689.05\n",
      "4           456             15.37             3248.42\n",
      "5           456             13.54             2805.96\n",
      "6           456             11.69             2361.65\n",
      "7           456             9.84             1915.49\n",
      "8           456             7.98             1467.47\n",
      "9           456             6.11             1017.58\n",
      "10           456             4.24             565.82\n",
      "11           456             2.36             112.18\n",
      "12           456             0.47             0\n",
      "Years to pay off Loan  1\n",
      "Additional Months to pay off Loan  0\n",
      "Estimated Payments over the course of the loan $ 5472\n"
     ]
    },
    {
     "data": {
      "text/plain": [
       "()"
      ]
     },
     "execution_count": 54,
     "metadata": {},
     "output_type": "execute_result"
    }
   ],
   "source": [
    "##Gather Input Values\n",
    "def gather_input():\n",
    "    gather_principal_loan_amount =  int(input('Please enter the principal:'))\n",
    "    gather_year_interest_rate =  int(input('please enter the yearly interest rate.  ie 5 for 5%:'))\n",
    "    gather_month_interest_rate =  (gather_year_interest_rate /100) / 12\n",
    "    gather_monthly_payment = int(input('please enter the monthly payment:'))\n",
    "    return(gather_principal_loan_amount , gather_year_interest_rate ,gather_month_interest_rate ,gather_monthly_payment)\n",
    "\n",
    "##Print Footer of Report.\n",
    "def print_footer(footer_remaining_balance, footer_principal_loan_amount, footer_month_count, footer_monthly_payment):\n",
    "    if (footer_remaining_balance < footer_principal_loan_amount):        \n",
    "        footer_year_count = (footer_month_count // 12)  \n",
    "        print('Years to pay off Loan ', footer_year_count)\n",
    "        footer_remaining_months = footer_month_count - (footer_year_count * 12)\n",
    "        print('Additional Months to pay off Loan ', footer_remaining_months)\n",
    "        footer_estimated_payments = (footer_month_count * footer_monthly_payment)\n",
    "        print('Estimated Payments over the course of the loan $', footer_estimated_payments)\n",
    "    return()\n",
    "\n",
    "## Loop Function to Calculate Interest\n",
    "def calculate_interest(loop_principal_loan_amount,loop_month_interest_rate,loop_monthly_payment):\n",
    "    loop_remaining_balance = loop_principal_loan_amount \n",
    "    loop_month_count = 1\n",
    "    loop_temp_amount = 0\n",
    "    loop_year_count = 0\n",
    "    ##Loop    \n",
    "    while (loop_remaining_balance > 0):\n",
    "        loop_principal_payment =  round((loop_remaining_balance * loop_month_interest_rate),2) \n",
    "        loop_remaining_balance =  round((loop_remaining_balance + loop_principal_payment -  loop_monthly_payment),2)\n",
    "        if (loop_remaining_balance < 0):\n",
    "            loop_remaining_balance = 0\n",
    "        if (loop_remaining_balance >= loop_principal_loan_amount):\n",
    "            print('Remaining Balance > Principal Loan Amount. Payment must be higher')\n",
    "            break\n",
    "        print (loop_month_count,'         ' , loop_monthly_payment,'           ' ,loop_principal_payment,'           ' ,loop_remaining_balance)\n",
    "        if (loop_remaining_balance > 0):\n",
    "            loop_month_count = loop_month_count + 1\n",
    "    return(loop_month_count,loop_remaining_balance)\n",
    "\n",
    "############################################\n",
    "\n",
    "## Call Gather Input Function and assign values\n",
    "input_values = gather_input()\n",
    "principal_loan_amount = input_values[0] \n",
    "year_interest_rate = input_values[1]\n",
    "month_interest_rate = input_values[2]\n",
    "monthly_payment = input_values[3]\n",
    "\n",
    "##Print Header\n",
    "print ('month_count','monthly_payment','principal_payment','remaining_balance')\n",
    "\n",
    "##Call Looping Function and assign values\n",
    "loop_values = calculate_interest(principal_loan_amount,month_interest_rate,monthly_payment)\n",
    "month_count = loop_values[0]\n",
    "remaining_balance = loop_values[1]\n",
    "\n",
    "## Call Print Foother Function\n",
    "print_footer(remaining_balance, principal_loan_amount, month_count, monthly_payment)"
   ]
  },
  {
   "cell_type": "code",
   "execution_count": null,
   "metadata": {},
   "outputs": [],
   "source": []
  }
 ],
 "metadata": {
  "celltoolbar": "Edit Metadata",
  "kernelspec": {
   "display_name": "Python 3",
   "language": "python",
   "name": "python3"
  },
  "language_info": {
   "codemirror_mode": {
    "name": "ipython",
    "version": 3
   },
   "file_extension": ".py",
   "mimetype": "text/x-python",
   "name": "python",
   "nbconvert_exporter": "python",
   "pygments_lexer": "ipython3",
   "version": "3.6.5"
  }
 },
 "nbformat": 4,
 "nbformat_minor": 1
}
