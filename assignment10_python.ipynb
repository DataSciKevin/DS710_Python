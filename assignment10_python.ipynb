{
 "cells": [
  {
   "cell_type": "markdown",
   "metadata": {},
   "source": [
    "<img src=\"https://datasciencedegree.wisconsin.edu/wp-content/themes/data-gulp/images/logo.svg\" width=\"300\">\n",
    "\n"
   ]
  },
  {
   "cell_type": "markdown",
   "metadata": {},
   "source": [
    "# Assignment 10\n",
    "\n",
    "This Python assignment explores three methods of computing the same thing, and their performance.  \n",
    "\n",
    "These problems use the 1985 Current Population Survey data, ```cps.csv```, from last week.\n"
   ]
  },
  {
   "cell_type": "markdown",
   "metadata": {},
   "source": [
    "## Problem 1(a).  Unionized workers.\n",
    "\n",
    "\n",
    "🎯 Create a pandas data frame to hold the CPS data.  \n",
    "🎯 Write a function that computes the average hourly wage of a unionized worker by using **control flow** to iterate through each row of the data frame.  There must be a loop in this function."
   ]
  },
  {
   "cell_type": "code",
   "execution_count": 1,
   "metadata": {},
   "outputs": [
    {
     "data": {
      "text/plain": [
       "10.798125"
      ]
     },
     "execution_count": 1,
     "metadata": {},
     "output_type": "execute_result"
    }
   ],
   "source": [
    "#Import libraries\n",
    "import numpy as np\n",
    "import pandas as pd\n",
    "\n",
    "#Open File with Panda File\n",
    "#Take the spaces off the leading and trailing header columns\n",
    "def read_file(in_name):\n",
    "    out_data = pd.read_csv(in_name)\n",
    "    return out_data\n",
    "\n",
    "def control_flow_compute(in_file):\n",
    "    total_wages = 0 \n",
    "    union_count = 0\n",
    "    average_union_wage  = 0\n",
    "#    \n",
    "    for index, row in in_file.iterrows():\n",
    "        if row[\"union\"] == 'Union':\n",
    "            total_wages += row[\"wage\"]\n",
    "            union_count += 1\n",
    "    \n",
    "    average_union_wage = total_wages / union_count\n",
    "    return average_union_wage\n",
    "        \n",
    "\n",
    "data_set = read_file('cps.csv')\n",
    "data_set.head(n=5)\n",
    "control_flow_compute(data_set)\n"
   ]
  },
  {
   "cell_type": "markdown",
   "metadata": {},
   "source": [
    "## Problem 1(b).  More unionized workers.\n",
    "\n",
    "🎯 Write a function that takes a row of a data frame as input.  \n",
    "\n",
    "* Your function should return \n",
    "  * `np.nan` if a worker is not unionized, and \n",
    "  * the worker's hourly wage if the worker is unionized.  \n",
    "  \n",
    "🎯 Pass your function to `apply` using your data frame (`df.apply(...)`).  Then, use the resulting series to compute the average hourly wage of a unionized worker.  \n",
    "\n",
    "Use tab completion or documentation for pandas series objects to find some useful functions!  Numpy rules, too."
   ]
  },
  {
   "cell_type": "code",
   "execution_count": 2,
   "metadata": {},
   "outputs": [
    {
     "data": {
      "text/plain": [
       "10.798125"
      ]
     },
     "execution_count": 2,
     "metadata": {},
     "output_type": "execute_result"
    }
   ],
   "source": [
    "def return_row(in_row):\n",
    "    if in_row[\"union\"] == 'Union':\n",
    "        return_val = in_row['wage']\n",
    "    else:\n",
    "        return_val = np.nan\n",
    "    return return_val\n",
    "\n",
    "def compute_row(in_panda):\n",
    "    total_wages = 0 \n",
    "    union_count = 0\n",
    "    average_union_wage  = 0\n",
    "# \n",
    "    temp_panda = in_panda.apply(return_row, axis=1)\n",
    "    for index, row in temp_panda.items(): \n",
    "        if row >= 0:\n",
    "            total_wages += row\n",
    "            union_count += 1\n",
    "    \n",
    "    average_union_wage = total_wages / union_count\n",
    "    return average_union_wage\n",
    "        \n",
    "compute_row(data_set)"
   ]
  },
  {
   "cell_type": "markdown",
   "metadata": {},
   "source": [
    "## Problem 1(c).  Selecting and analyzing unionized workers.\n",
    "\n",
    "🎯 Write code using the data frame only, that selects the unionized workers, then computes the average hourly wage of the resulting subset.  Pandas documentation and examples are going to be king here.  Also, don't be afraid to just Google [about three words](https://www.google.com/search?q=pandas+select+columns) related to your problem; after all, the internet was written by computer programmers!"
   ]
  },
  {
   "cell_type": "code",
   "execution_count": 3,
   "metadata": {},
   "outputs": [
    {
     "data": {
      "text/plain": [
       "(9.024063670411982, 0      True\n",
       " 1      True\n",
       " 2      True\n",
       " 3      True\n",
       " 4      True\n",
       " 5      True\n",
       " 6      True\n",
       " 7      True\n",
       " 8      True\n",
       " 9      True\n",
       " 10     True\n",
       " 11     True\n",
       " 12     True\n",
       " 13     True\n",
       " 14     True\n",
       " 15     True\n",
       " 16     True\n",
       " 17     True\n",
       " 18     True\n",
       " 19     True\n",
       " 20     True\n",
       " 21     True\n",
       " 22     True\n",
       " 23     True\n",
       " 24     True\n",
       " 25     True\n",
       " 26     True\n",
       " 27     True\n",
       " 28     True\n",
       " 29     True\n",
       "        ... \n",
       " 504    True\n",
       " 505    True\n",
       " 506    True\n",
       " 507    True\n",
       " 508    True\n",
       " 509    True\n",
       " 510    True\n",
       " 511    True\n",
       " 512    True\n",
       " 513    True\n",
       " 514    True\n",
       " 515    True\n",
       " 516    True\n",
       " 517    True\n",
       " 518    True\n",
       " 519    True\n",
       " 520    True\n",
       " 521    True\n",
       " 522    True\n",
       " 523    True\n",
       " 524    True\n",
       " 525    True\n",
       " 526    True\n",
       " 527    True\n",
       " 528    True\n",
       " 529    True\n",
       " 530    True\n",
       " 531    True\n",
       " 532    True\n",
       " 533    True\n",
       " Name: wage, Length: 534, dtype: bool)"
      ]
     },
     "execution_count": 3,
     "metadata": {},
     "output_type": "execute_result"
    }
   ],
   "source": [
    "def union_calc(in_panda):\n",
    "    return in_panda[\"wage\"].mean(), in_panda[\"wage\"] > 0\n",
    "\n",
    "union_calc(data_set)"
   ]
  },
  {
   "cell_type": "markdown",
   "metadata": {},
   "source": [
    "## Problem 1(d).  Timing.\n",
    "\n",
    "🎯 Use the ```%time``` or ```%timeit``` [iPython magic commands](https://ipython.readthedocs.io/en/stable/interactive/magics.html) to compare your code from 1(a), 1(b), and 1(c).  \n",
    "🎯 Create a markdown cell which explains the results of your comparison, including which is fastest and which is slowest.  Can you explain what makes the fastest code fastest?"
   ]
  },
  {
   "cell_type": "code",
   "execution_count": 4,
   "metadata": {},
   "outputs": [
    {
     "name": "stdout",
     "output_type": "stream",
     "text": [
      "Wall time: 85.8 ms\n",
      "Wall time: 12 ms\n",
      "Wall time: 997 µs\n",
      "41.5 ms ± 1.52 ms per loop (mean ± std. dev. of 7 runs, 10 loops each)\n",
      "10.8 ms ± 752 µs per loop (mean ± std. dev. of 7 runs, 100 loops each)\n",
      "233 µs ± 8.13 µs per loop (mean ± std. dev. of 7 runs, 1000 loops each)\n"
     ]
    }
   ],
   "source": [
    "%time(control_flow_compute(data_set))\n",
    "%time(compute_row(data_set))\n",
    "%time(union_calc(data_set))\n",
    "\n",
    "#Wall time: 58.8 ms\n",
    "#Wall time: 12 ms\n",
    "#Wall time: 996 us\n",
    "\n",
    "%timeit(control_flow_compute(data_set))\n",
    "%timeit(compute_row(data_set))\n",
    "%timeit(union_calc(data_set))\n",
    "\n",
    "#43.1 ms ± 4.35 ms per loop (mean ± std. dev. of 7 runs, 10 loops each)\n",
    "#11.1 ms ± 1.16 ms per loop (mean ± std. dev. of 7 runs, 100 loops each)\n",
    "#244 us ± 10.9 us per loop (mean ± std. dev. of 7 runs, 1000 loops each)\n"
   ]
  }
 ],
 "metadata": {
  "kernelspec": {
   "display_name": "Python 3",
   "language": "python",
   "name": "python3"
  },
  "language_info": {
   "codemirror_mode": {
    "name": "ipython",
    "version": 3
   },
   "file_extension": ".py",
   "mimetype": "text/x-python",
   "name": "python",
   "nbconvert_exporter": "python",
   "pygments_lexer": "ipython3",
   "version": "3.6.5"
  }
 },
 "nbformat": 4,
 "nbformat_minor": 1
}
