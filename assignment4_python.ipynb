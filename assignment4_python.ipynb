{
 "cells": [
  {
   "cell_type": "markdown",
   "metadata": {},
   "source": [
    "<img src=\"https://datasciencedegree.wisconsin.edu/wp-content/themes/data-gulp/images/logo.svg\" width=\"300\">\n"
   ]
  },
  {
   "cell_type": "markdown",
   "metadata": {},
   "source": [
    "# Assignment 4\n",
    "\n",
    "This assignment has you play with such things as random data generation, and computation on data stored in a Python list.  \n",
    "<img src=\"https://upload.wikimedia.org/wikipedia/commons/3/36/Two_red_dice_01.svg\" width=\"150\">\n",
    "\n",
    "We're gonna use functions to do as much of it as we can, because functions are totally awesome.\n",
    "\n",
    "Might I recommend the use of [Numpy](http://www.numpy.org/) for random numbers and other useful things?"
   ]
  },
  {
   "cell_type": "markdown",
   "metadata": {},
   "source": [
    "## Problem 1.  Revenue models.\n",
    "\n",
    "You're an analyst for *Farm2Table*, a chain restaurant that sources its food locally whenever possible.  You are tasked to forecast the financial payoff of an ad campaign.  \n",
    "\n",
    "Currently, average monthly revenue at each store is \\$100,000, with a standard deviation of \\$12,000.  An advertising firm claims that with clever advertisement, they can increase monthly revenue for *Farm2Table* to \\$120,000, but the standard deviation will be increased as well, to \\$25,000.  Assume a **normal distribution**.\n",
    "\n",
    "\n",
    "---\n",
    "\n",
    "🎯 Write a Python function `simulate_revenue(average, std_dev, months)`.\n",
    "- it produces simulated revenue data according to a normal distribution with shape parameterized by `average` and `std_dev`, for a given number of months.   \n",
    "- It returns a list of length `months`. \n",
    "- Round each item to the nearest cent.  No fractions of a cent allowed. \n",
    "\n",
    "Use `simulate_revenue` to generate two lists of random numbers which model potential revenue: \n",
    "\n",
    "1. one list `before` with 24 months of revenue using the current mean and standard deviation, \n",
    "2. another list `after` with 12 months of revenue using the predicted mean and standard deviation.\n",
    "\n",
    "Then, concatenate `before` and `after` to produce a third list `all_months` containing the revenue of all 36 months.  \n",
    "\n",
    "simulate_revenue(average, std_dev, months)\n",
    "\n",
    "---"
   ]
  },
  {
   "cell_type": "code",
   "execution_count": 2,
   "metadata": {},
   "outputs": [
    {
     "name": "stdout",
     "output_type": "stream",
     "text": [
      "[104418.48, 112264.31, 101071.16, 92346.26, 91831.38, 106993.94, 94696.62, 90440.58, 99489.84, 119022.76, 92471.38, 106777.69, 98485.18, 114367.17, 101625.08, 93432.56, 119977.79, 70420.66, 99069.35, 61823.31, 79648.6, 76276.18, 105644.62, 91240.24, [73463.88, 103014.49, 87842.21, 105529.32, 91240.01, 86257.13, 112800.35, 140797.36, 100710.1, 95052.23, 117711.5, 72247.76]]\n"
     ]
    }
   ],
   "source": [
    "#Populate a list with inputs of Average Revenue, A Standard Deviation, and Number of Months to Simulate.\n",
    "def simulate_revenue(average, std_dev, months):\n",
    "    list_out = []\n",
    "    for x in range(0,months):\n",
    "        list_out.append(round(np.random.normal(loc=average, scale=std_dev),2))\n",
    "    return(list_out)\n",
    "\n",
    "#Initiate our Variables and Functions.\n",
    "import numpy as np\n",
    "before_list = []\n",
    "after_list = []\n",
    "new_list = []\n",
    "\n",
    "#Populate our List with 24 values via our function above.\n",
    "before_list = simulate_revenue(100000,12000,24)\n",
    "\n",
    "#Calculate Mean and Standard Deviation.\n",
    "mean_dev_out = round(np.mean(before_list),2)\n",
    "std_dev_out = round(np.std(before_list),2)\n",
    "\n",
    "#Populate our List with 12 values via our function above.\n",
    "after_list = simulate_revenue(mean_dev_out, std_dev_out,12)\n",
    "\n",
    "#Combile the two lists into one\n",
    "new_list = before_list \n",
    "new_list.append(after_list)\n",
    "\n",
    "#Print the List.\n",
    "print(new_list)\n"
   ]
  },
  {
   "cell_type": "markdown",
   "metadata": {},
   "source": [
    "🎯 Write a function `print_monthly_revenue(revenue, name)` that prints an arbitrary list to the screen, with these formatting requirements:\n",
    "- round each number *when printing* to the nearest $100.  \n",
    "- do not modify the original list.\n",
    "- prints a two-column output, with `month: revenue` (the month is implicitly given). Pad the month value so it is always of width 2.\n",
    "- right-align the revenue value\n",
    "\n",
    "Example: \n",
    "`print_monthly_revenue(before, \"before\")` produces\n",
    "```\n",
    "Revenue for period 'before'\n",
    "\n",
    "Mo: revenue\n",
    "-----------\n",
    "01: 123100\n",
    "02:  98288\n",
    "...\n",
    "```\n",
    "\n",
    "Call `print_monthly_revenue` on each of your concatenated list, and be sure to commit the output."
   ]
  },
  {
   "cell_type": "code",
   "execution_count": 4,
   "metadata": {},
   "outputs": [
    {
     "name": "stdout",
     "output_type": "stream",
     "text": [
      "Revenue for period Before\n",
      "mo :  revenue\n",
      "01 :  90697.44\n",
      "02 :  84831.94\n",
      "03 :  112326.38\n",
      "04 :  82702.83\n",
      "05 :  87566.92\n",
      "06 :  103313.27\n",
      "07 :  80040.66\n",
      "08 :  107014.17\n",
      "09 :  72621.71\n",
      "10 :  108199.93\n",
      "11 :  89974.99\n",
      "12 :  93714.77\n",
      "13 :  112135.18\n",
      "14 :  97829.65\n",
      "15 :  99570.25\n",
      "16 :  85159.37\n",
      "17 :  106249.61\n",
      "18 :  92752.65\n",
      "19 :  90558.55\n",
      "20 :  88989.3\n",
      "21 :  112028.44\n",
      "22 :  97534.02\n",
      "23 :  88657.93\n",
      "24 :  96633.35\n",
      "Revenue for period After\n",
      "mo :  revenue\n",
      "01 :  97496.23\n",
      "02 :  98905.98\n",
      "03 :  100385.5\n",
      "04 :  71500.52\n",
      "05 :  96455.77\n",
      "06 :  96185.4\n",
      "07 :  94130.53\n",
      "08 :  104918.22\n",
      "09 :  98911.42\n",
      "10 :  97210.0\n",
      "11 :  93604.88\n",
      "12 :  97708.01\n"
     ]
    },
    {
     "data": {
      "text/plain": [
       "()"
      ]
     },
     "execution_count": 4,
     "metadata": {},
     "output_type": "execute_result"
    }
   ],
   "source": [
    "#Prints our list.\n",
    "def print_monthly_revenue(revenue, name):\n",
    "    list_length = len(revenue)             # Calculate the length of our list \n",
    "    print ('Revenue for period',name)      # Print our Header\n",
    "    print ('mo :  revenue')                # Print our Header \n",
    "    for i in range (0,list_length):         \n",
    "        print (str(i+1).zfill(2),': ' ,round(revenue[i],2))  # Print the values from the incoming list.\n",
    "    return()\n",
    "\n",
    "#\n",
    "before_list = simulate_revenue(100000,12000,24)\n",
    "\n",
    "############################################# Defined from above\n",
    "before_list = simulate_revenue(100000,12000,24)\n",
    "mean_dev_out = round(np.mean(before_list),2)\n",
    "std_dev_out = round(np.std(before_list),2)\n",
    "after_list = simulate_revenue(mean_dev_out, std_dev_out,12)\n",
    "############################################# Defined from above\n",
    "\n",
    "print_monthly_revenue(before_list,\"Before\")\n",
    "print_monthly_revenue(after_list,\"After\")\n"
   ]
  },
  {
   "cell_type": "markdown",
   "metadata": {},
   "source": [
    "---\n",
    "\n",
    "## Problem 2(a).  Bus arrival times.\n",
    "\n",
    "Shuttle buses arrive at an airport to fetch passengers with an average interval of 15 minutes.  Their actual interarrival times follow an **exponential distribution**.  \n",
    "\n",
    "---\n",
    "\n",
    "🎯 Write a function `simulate_busses(mean, num_busses)` that simulates bus arrival times\n",
    "\n",
    "- Use a ```random``` module to generate the exponentially distributed bus intervals.\n",
    "- Round your raw data to the nearest tenth of a minute.  Realize that rounding is generally scary, and can cause serious problems downstream if not done only when appropriate.\n",
    "\n",
    "Call your function to generate a list of 50 arrival times with mean 15; capture the result in a variable called `bus_times`.  Print your list, and be sure to commit the output.\n",
    "\n",
    "For example, your list might begin ```[11.2, 34.1, 18.8, 23.5, ...```.  \n",
    "\n",
    "---\n",
    "\n",
    "🎯 Use Python to answer the following questions:  \n",
    "1. What is the shortest waiting time in your list?  \n",
    "2. What is the longest waiting time?  \n",
    "\n",
    "These answers must be programmatically determined and the output that proves you computed them (namely, the values) must be committed.\n",
    "\n",
    "---\n",
    "\n",
    "🎯 When answering the previous question, did you write a function?  Why or why not?"
   ]
  },
  {
   "cell_type": "code",
   "execution_count": 5,
   "metadata": {},
   "outputs": [
    {
     "name": "stdout",
     "output_type": "stream",
     "text": [
      "[14.8, 14.9, 13.5, 13.6, 15.0, 15.9, 14.9, 14.7, 13.9, 15.3, 13.9, 12.8, 14.0, 15.0, 14.4, 15.6, 16.5, 15.0, 14.4, 16.9, 14.3, 14.0, 17.6, 14.1, 16.0, 13.9, 15.2, 14.4, 15.4, 15.3, 16.0, 14.1, 14.3, 14.0, 15.7, 13.3, 14.2, 15.6, 14.1, 15.6, 14.7, 14.2, 16.2, 15.9, 16.2, 14.9, 13.6, 13.7, 14.5, 14.5]\n"
     ]
    }
   ],
   "source": [
    "#Simulate Bus Schedule with inputs of an average time between arrivals, and the number of busses on the route.\n",
    "def simulate_busses(mean_in,num_busses):\n",
    "    import numpy as np\n",
    "    list_out = []                                                 #Initiate our new list of values.\n",
    "    for x in range(0,num_busses):\n",
    "        list_out.append(round(np.random.normal(loc=mean_in),1))   #Populate the list with random numbers using numpy.\n",
    "    bus_times = list_out\n",
    "    return(bus_times)\n",
    "\n",
    "simulated_schedule = simulate_busses(15,50)\n",
    "print(simulated_schedule)\n",
    "    "
   ]
  },
  {
   "cell_type": "code",
   "execution_count": 6,
   "metadata": {},
   "outputs": [
    {
     "name": "stdout",
     "output_type": "stream",
     "text": [
      "min wait time :  12.8\n",
      "max wait time :  17.6\n"
     ]
    }
   ],
   "source": [
    "#Simulate Bus Schedule with inputs of an average time between arrivals, and the number of busses on the route.\n",
    "#The Function will return the min number in the list, and the max number in the list.\n",
    "def min_max_list_value(list_in):\n",
    "    min_value = min(list_in)\n",
    "    max_value = max(list_in)\n",
    "    return(min_value,max_value)\n",
    "\n",
    "wait_time = min_max_list_value(simulated_schedule)\n",
    "print('min wait time : ',wait_time[0])\n",
    "print('max wait time : ',wait_time[1])"
   ]
  },
  {
   "cell_type": "code",
   "execution_count": null,
   "metadata": {},
   "outputs": [],
   "source": [
    "#I did decide to use a function so this logic could be reused.   Also it eliminates the need to have to deal with the list multiple times.\n",
    "#I did think about splitting the functions out into 2 functions, but think 1 is cleaner."
   ]
  },
  {
   "cell_type": "markdown",
   "metadata": {},
   "source": [
    "# Problem 2(b).  Cumulative waiting times.\n",
    "\n",
    "In this problem, you'll interpret the data you generated in Problem 2(a) as a sequence of consecutive arrival times.  Suppose the first bus arrives at the measured number of minutes after midnight.  The bus company wants to track the time each bus arrived, measured in minutes after midnight.  \n",
    "\n",
    "🎯 Write a function that transforms the bus arrival times into cumulative times.  The function takes in a list of arrival times, and returns a list of the number of minutes after midnight that each bus arrived at, using the list you generated in part (a).\n",
    "\n",
    "- This assumes the first bus arrived at the airport terminal at midnight *plus* its arrival time (the time at bus_times[0]).  The second arrived at the arrival time of the first *plus* its arrival time, etc.\n",
    "- I'm deliberately not naming your function for you, here.  You get to choose!  Make it descriptive!\n",
    "\n",
    "With the data from our example in part (a), the answer would start ```[11.2, 45.3, 64.1, 87.6, ...]```, where 45.3 = 11.2+34.1.  Call your function on your variable that you already have in memory.  Print your cumulative waiting time list.\n",
    "\n",
    "---"
   ]
  },
  {
   "cell_type": "code",
   "execution_count": 7,
   "metadata": {},
   "outputs": [
    {
     "name": "stdout",
     "output_type": "stream",
     "text": [
      "[14.8, 29.7, 43.2, 56.8, 71.8, 87.7, 102.6, 117.3, 131.2, 146.5, 160.4, 173.2, 187.2, 202.2, 216.6, 232.2, 248.7, 263.7, 278.1, 295.0, 309.3, 323.3, 340.9, 355.0, 371.0, 384.9, 400.1, 414.5, 429.9, 445.2, 461.2, 475.3, 489.6, 503.6, 519.3, 532.6, 546.8, 562.4, 576.5, 592.1, 606.8, 621.0, 637.2, 653.1, 669.3, 684.2, 697.8, 711.5, 726.0, 740.5]\n"
     ]
    }
   ],
   "source": [
    "#Convert the numbers in the list to be the numbers past midnight \n",
    "def minutes_after_midnight(list_in):\n",
    "    total_count = 0                                 # Inititate the count\n",
    "    list_out = []                                   # Inititate the list\n",
    "    list_length = len(list_in)\n",
    "    for x in range(0,list_length):                  # Loop throught all of the values in the list and convert.\n",
    "        total_count = round(total_count + list_in[x],1)\n",
    "        list_out.append(total_count)\n",
    "    return(list_out)\n",
    "\n",
    "cummulative_list = minutes_after_midnight(simulated_schedule)\n",
    "print(cummulative_list)"
   ]
  },
  {
   "cell_type": "markdown",
   "metadata": {},
   "source": [
    "🎯 Using the list generated in 2(a), at what time does the 50th bus arrive? Print the time in the format `HH:MM AM/PM` where `HH` is the hour and `MM` is the minute.  \n",
    "\n",
    "###### On the printing of the times\n",
    "\n",
    "* Note that HH should be between 01 and 12.\n",
    "* You must print that leading 0 in the hour and minute, if it is less than 10.\n",
    "* Do *not* generate a new list of times; be sure to re-use the list of intervals you already generated in 2(a).\n",
    "* I strongly suggest you write a **function** to stringify the floating point number.  \n",
    "  * It eats the floating point number, interpreted as number of minutes past midnight.  \n",
    "  * It returns a string, composed of the hours, minutes, and morning/afternoon indicator.  \n",
    "  * To solve this problem, take a random number of minutes, and do the computation yourself, and write down the steps you take to do it.  That's what you should make the computer do!\n",
    "  * Test the function as you develop it, with some known inputs and the times they should map to; e.g., 125.0 is \"02:05 AM\", and so is 125+24*60."
   ]
  },
  {
   "cell_type": "code",
   "execution_count": 10,
   "metadata": {},
   "outputs": [
    {
     "name": "stdout",
     "output_type": "stream",
     "text": [
      "12 : 20 PM\n",
      "02 : 05 AM\n"
     ]
    },
    {
     "data": {
      "text/plain": [
       "()"
      ]
     },
     "execution_count": 10,
     "metadata": {},
     "output_type": "execute_result"
    }
   ],
   "source": [
    "# Convert the incoming list to an actual time unit.\n",
    "def print_last_arrival_time(list_in):\n",
    "    list_length = len(list_in) - 1\n",
    "    last_value  = list_in[list_length]\n",
    "    arrival_hour = round(last_value / 60)                       # Calculate the Hours.\n",
    "    arrival_min = round(last_value - (arrival_hour * 60))       # Calculate the Minutes.\n",
    "\n",
    "# Determine AM or PM\n",
    "    if (arrival_hour <= 11):\n",
    "        AM_PM_indicator = 'AM'\n",
    "    else:\n",
    "        AM_PM_indicator = 'PM'\n",
    "# Convert hours for AM or PM    \n",
    "    if (arrival_hour > 12):\n",
    "        arrival_hour = arrival_hour - 12 \n",
    "        \n",
    "    print(str(arrival_hour).zfill(2),':',str(arrival_min).zfill(2), AM_PM_indicator)  #Formats and Print the Hours : Minute\n",
    "       \n",
    "    return()\n",
    "\n",
    "print_last_arrival_time(cummulative_list)\n",
    "\n",
    "print_last_arrival_time([125])\n"
   ]
  },
  {
   "cell_type": "markdown",
   "metadata": {},
   "source": [
    "---\n",
    "\n",
    "## Problem 3.  Chocolate and the Nobel\n",
    "\n",
    "This problem also uses generation of random numbers to simulate.  \n",
    "\n",
    "Researchers have observed a (presumably spurious) correlation between per capita chocolate consumption and the rate of Nobel prize laureates: see [Chocolate Consumption, Cognitive Function, and Nobel Laureates](http://www.nejm.org/doi/full/10.1056/NEJMon1211064).  In this problem, we will create some sample data to simulate this relationship.\n",
    "\n",
    "I have not told you what to name your functions, or even when to write them.  But know that the person who is authoring this assignment often writes one-line functions with descriptive names.  There's power in naming your actions, no matter how simple!!!\n",
    "### Problem 3(a).  A first pass at simulation\n",
    "\n",
    "\n",
    "\n",
    "🎯 Write Python code to produce a list of 50 ordered pairs $(c,n)$, where $c$ represents chocolate consumption in kg/year/person and $n$ represents the number of Nobel laureates per 10 million population, for some country.  The values for $c$ should be random numbers (not necessarily integers!) **uniformly distributed** between 0 and 15.  You may assume that $c$ and $n$ are related by\n",
    "\n",
    "$n = 0.4\\cdot c-0.8$.\n",
    "\n",
    "However, it is impossible for a nation to have a negative number of Nobel laureates, so if your predicted value of $n$ is less than 0 for a country, replace that value by 0.\n",
    "\n",
    "🎯 Print your list of ordered pairs; report your values of $c$ and $n$ to 2 decimal places."
   ]
  },
  {
   "cell_type": "code",
   "execution_count": 29,
   "metadata": {},
   "outputs": [
    {
     "name": "stdout",
     "output_type": "stream",
     "text": [
      "[[5.46, 1.38], [9.09, 2.84], [3.82, 0.73], [12.45, 4.18], [2.77, 0.31], [1.87, -0.05], [8.02, 2.41], [6.65, 1.86], [7.74, 2.3], [7.48, 2.19], [2.98, 0.39], [0.79, -0.48], [3.66, 0.66], [14.84, 5.14], [8.16, 2.46], [1.8, -0.08], [14.83, 5.13], [9.09, 2.84], [4.83, 1.13], [5.89, 1.56], [2.18, 0.07], [5.58, 1.43], [4.41, 0.96], [11.37, 3.75], [5.0, 1.2], [4.34, 0.94], [14.76, 5.1], [0.74, -0.5], [12.37, 4.15], [2.43, 0.17], [6.02, 1.61], [13.32, 4.53], [0.69, -0.52], [1.0, -0.4], [10.97, 3.59], [8.47, 2.59], [4.54, 1.02], [0.68, -0.53], [5.55, 1.42], [2.45, 0.18], [4.07, 0.83], [5.29, 1.32], [2.56, 0.22], [0.94, -0.42], [9.05, 2.82], [14.17, 4.87], [14.27, 4.91], [13.78, 4.71], [8.03, 2.41], [8.83, 2.73]]\n"
     ]
    }
   ],
   "source": [
    "# Calculate the random number of order pairs.\n",
    "# C is a random number between 0 and 15.\n",
    "# N is defined using the equation n= (0.4 * c)) - 0.8) \n",
    "\n",
    "def create_ordered_pairs():\n",
    "    list_out = []\n",
    "    import numpy as np\n",
    "    for x in range(0,50):\n",
    "        c=round(np.random.uniform(0,15),2)     # C is a random number between 0 and 15.\n",
    "        n=(0.4 * c)\n",
    "        n= round((n - 0.8),2)                  # N is defined using the equation n= (0.4 * c)) - 0.8) \n",
    "        list_out.append([c,n])                 # Put the C,N into the list.\n",
    "    return(list_out)\n",
    "\n",
    "\n",
    "create_ordered_pairs_to_print = []\n",
    "create_ordered_pairs_to_print = (create_ordered_pairs())    \n",
    "print (create_ordered_pairs_to_print)"
   ]
  },
  {
   "cell_type": "markdown",
   "metadata": {},
   "source": [
    "# Problem 3(b).  Error term.\n",
    "\n",
    "Our list of data from part (a) is not a good simulation of real-world data, because it is perfectly linear.  That is, even though the per capita chocolate variable is random, the number of Nobel laureates is 100% predicted from that value.  So, we'll randomly perturb the number of laureates for each country.  \n",
    "\n",
    "🎯 Using the 50 $c$ and $n$ values you generated in part (a), generate new $n_e$ values, using the following formula:\n",
    "\n",
    "$n_e = n + \\epsilon.$\n",
    "\n",
    "Here $\\epsilon$ should be a random variable with **normal distribution**, mean 0, and standard deviation 1.  Using the list of ordered pairs generated in 3(a), create a new list of 50 ordered pairs $(c,n_e)$.  Each $n$ should be perturbed by a distinct and randomly generated value -- do not use the same $\\epsilon$ for all $n$.\n",
    "\n",
    "Again, your simulated data should not predict negative numbers of Nobel laureates. Again, do *not* generate a new list of $(c,n)$ values; you must re-use the list of ordered pairs already generated in 3(a).  Data you create as the result of evaluating a cell is available for use in other cells.  Check it out -- try running the Python command `who` if you want to prove it to yourself (a good habit to be in!).\n",
    "\n",
    "🎯 Print your new list of ordered pairs."
   ]
  },
  {
   "cell_type": "code",
   "execution_count": 46,
   "metadata": {},
   "outputs": [
    {
     "name": "stdout",
     "output_type": "stream",
     "text": [
      "[[5.46, 2.12], [9.09, 1.69], [3.82, 0.99], [12.45, 2.44], [2.77, 1.15], [1.87, 0.53], [8.02, 1.35], [6.65, 2.92], [7.74, 2.67], [7.48, 2.51], [2.98, 0.82], [0.79, 0.38], [3.66, 0.01], [14.84, 4.98], [8.16, 4.66], [1.8, 1.1], [14.83, 5.5], [9.09, 4.26], [4.83, 0.33], [5.89, 3.28], [2.18, 0.91], [5.58, 3.06], [4.41, 1.03], [11.37, 4.81], [5.0, 1.18], [4.34, 0.12], [14.76, 6.39], [0.74, 0.63], [12.37, 4.36], [2.43, 0.34], [6.02, 1.07], [13.32, 4.26], [0.69, 2.19], [1.0, 2.1], [10.97, 2.78], [8.47, 2.95], [4.54, 2.2], [0.68, 0.14], [5.55, 2.98], [2.45, 0.04], [4.07, 0.17], [5.29, 0.91], [2.56, 0.17], [0.94, 0.56], [9.05, 1.9], [14.17, 5.83], [14.27, 6.06], [13.78, 3.86], [8.03, 2.26], [8.83, 3.38]]\n"
     ]
    }
   ],
   "source": [
    "#Split out the incoming list, and re-calculate the n.\n",
    "def create_ordered_pairs2(list_in):\n",
    "    list_out    = []\n",
    "    c_list_in   = []\n",
    "    n_list_in   = []\n",
    "    list_length = len(list_in)                                 # Calculate length of the list.\n",
    "    c_list_in,n_list_in = list(zip(*list_in))                  # Split (zip) the incoming list into new lists.\n",
    "    for x in range(0,list_length):                              \n",
    "        random_num = (round(np.random.normal(loc=0, scale=1),2)) # Calculate a Random Number\n",
    "        newc = c_list_in[x]                                      # Split the new c value out.        \n",
    "        newn = abs(round(n_list_in[x] + random_num,2))           # Split the new n value out, and add the random number to it.        \n",
    "        list_out.append([newc,newn])                            # bring the new values back together for a new list.\n",
    "    return(list_out)\n",
    "\n",
    "#print(create_ordered_pairs_to_print)\n",
    "create_ordered_pairs2_to_print = []\n",
    "create_ordered_pairs2_to_print = create_ordered_pairs2(create_ordered_pairs_to_print)\n",
    "print(create_ordered_pairs2_to_print)"
   ]
  },
  {
   "cell_type": "markdown",
   "metadata": {},
   "source": [
    "### Problem 3(c).  Winners and losers.\n",
    "\n",
    "🎯 Make a new list consisting of all of the ordered pairs $(c,n_e)$ from your list from part (b) such that $n_e > 0.4\\cdot c -0.8$ (the $n$ value increased upon perturbation). \n",
    "\n",
    "🎯 Print this new (shorter) list. \n",
    "Use Python to calculate how many items are in your list of winners.  Hint to help you know when you have the answer correct: since the perturbation has mean 0, we expect about half to have gone up..."
   ]
  },
  {
   "cell_type": "code",
   "execution_count": 54,
   "metadata": {},
   "outputs": [
    {
     "name": "stdout",
     "output_type": "stream",
     "text": [
      "32\n"
     ]
    }
   ],
   "source": [
    "#Split out the incoming list for values o_f n where n > 0.4 * C - 0.8\n",
    "def winning_ordered_pairs(list_in):\n",
    "    list_out    = []\n",
    "    c_list_in   = []\n",
    "    n_list_in   = []\n",
    "    list_length = len(list_in)                                 # Calculate length of the list.\n",
    "    c_list_in,n_list_in = list(zip(*list_in))                  # Split (zip) the incoming list into new lists.\n",
    "    for x in range(0,list_length):                              \n",
    "        if n_list_in[x] > (0.4 *  c_list_in[x] - 0.8) :        # Split the new c value out that meet the new criteria.        \n",
    "            list_out.append([c_list_in[x],n_list_in[x]])       # bring the new values back together for a new list.\n",
    "    return(list_out)\n",
    "\n",
    "#print(create_ordered_pairs_to_print)\n",
    "winning_ordered_pairs_to_print = []\n",
    "winning_ordered_pairs_to_print = winning_ordered_pairs(create_ordered_pairs2_to_print)\n",
    "print(len(winning_ordered_pairs_to_print))"
   ]
  },
  {
   "cell_type": "markdown",
   "metadata": {},
   "source": [
    "# Problem 3(d). Preparing data to transfer to R.\n",
    "\n",
    "🎯 For future use, split your list of ordered pairs from Problem 3(b) (not 3(c)!) into two lists.  \n",
    "\n",
    "1. The first list should contain the $c$ values, and \n",
    "2. the second list should contain the $n_e$ values.\n",
    "\n",
    "To actually transfer data to R, we would write it to a file, perhaps as a csv file.  We'll leave that for later."
   ]
  },
  {
   "cell_type": "code",
   "execution_count": 55,
   "metadata": {},
   "outputs": [
    {
     "name": "stdout",
     "output_type": "stream",
     "text": [
      "(5.46, 9.09, 3.82, 12.45, 2.77, 1.87, 8.02, 6.65, 7.74, 7.48, 2.98, 0.79, 3.66, 14.84, 8.16, 1.8, 14.83, 9.09, 4.83, 5.89, 2.18, 5.58, 4.41, 11.37, 5.0, 4.34, 14.76, 0.74, 12.37, 2.43, 6.02, 13.32, 0.69, 1.0, 10.97, 8.47, 4.54, 0.68, 5.55, 2.45, 4.07, 5.29, 2.56, 0.94, 9.05, 14.17, 14.27, 13.78, 8.03, 8.83)\n",
      "(2.12, 1.69, 0.99, 2.44, 1.15, 0.53, 1.35, 2.92, 2.67, 2.51, 0.82, 0.38, 0.01, 4.98, 4.66, 1.1, 5.5, 4.26, 0.33, 3.28, 0.91, 3.06, 1.03, 4.81, 1.18, 0.12, 6.39, 0.63, 4.36, 0.34, 1.07, 4.26, 2.19, 2.1, 2.78, 2.95, 2.2, 0.14, 2.98, 0.04, 0.17, 0.91, 0.17, 0.56, 1.9, 5.83, 6.06, 3.86, 2.26, 3.38)\n"
     ]
    }
   ],
   "source": [
    "#Split out the incoming list\n",
    "def split_ordered_pairs(list_in):\n",
    "    c_list_out   = []\n",
    "    n_list_out   = []\n",
    "    c_list_out,n_list_out = list(zip(*list_in))                  # Split (zip) the incoming list into new lists.\n",
    "    return(c_list_out,n_list_out)\n",
    "\n",
    "#print lists\n",
    "split_ordered_pairs_lists = split_ordered_pairs(create_ordered_pairs2_to_print)\n",
    "print(split_ordered_pairs_lists[0])\n",
    "print(split_ordered_pairs_lists[1])"
   ]
  },
  {
   "cell_type": "code",
   "execution_count": null,
   "metadata": {},
   "outputs": [],
   "source": []
  }
 ],
 "metadata": {
  "celltoolbar": "Edit Metadata",
  "kernelspec": {
   "display_name": "Python 3",
   "language": "python",
   "name": "python3"
  },
  "language_info": {
   "codemirror_mode": {
    "name": "ipython",
    "version": 3
   },
   "file_extension": ".py",
   "mimetype": "text/x-python",
   "name": "python",
   "nbconvert_exporter": "python",
   "pygments_lexer": "ipython3",
   "version": "3.6.5"
  }
 },
 "nbformat": 4,
 "nbformat_minor": 1
}
