{
 "cells": [
  {
   "cell_type": "markdown",
   "metadata": {},
   "source": [
    "<img src=\"https://datasciencedegree.wisconsin.edu/wp-content/themes/data-gulp/images/logo.svg\" width=\"300\">\n"
   ]
  },
  {
   "cell_type": "markdown",
   "metadata": {},
   "source": [
    "# Assignment 5\n",
    "\n",
    "This assignment builds on the previous Python content to write two fairly nontrivial programs: \n",
    "1. implementing the English language game of Piglatin\n",
    "2. counting all instances of each letter in a text file\n",
    "\n",
    "-----"
   ]
  },
  {
   "cell_type": "markdown",
   "metadata": {},
   "source": [
    "## Problem 1.  Pig latin.\n",
    "\n",
    "In [Pig Latin](https://en.wikipedia.org/wiki/Pig_Latin), English words are transformed according to the following rules:\n",
    "\n",
    "* If the word begins with one or more consonants, those consonants are moved to the end of the word, followed by \"ay\":\n",
    "\n",
    "  * pig -> igpay\n",
    "  * Latin -> Atinlay\n",
    "  * trash -> ashtray\n",
    "\n",
    "* If the word begins with \"qu\", both of these letters are moved to the end of the word, followed by \"ay\":\n",
    "\n",
    "  * quarter -> arterquay\n",
    "  \n",
    "* If the word begins with a vowel, it is followed by \"yay\":\n",
    "\n",
    "  * apple -> appleyay\n",
    "  * out -> outyay.\n",
    "  \n",
    "\n",
    "Note that \n",
    "* more than one consonant may be moved to the end of the word. \n",
    "* \"y\" functions as a consonant at the start of words. \n",
    "* capitalization should be preserved after manipulating the word. \n"
   ]
  },
  {
   "cell_type": "markdown",
   "metadata": {},
   "source": [
    "### Problem 1(a). Implementation.\n",
    "\n",
    "🎯 Write Python code that takes a word and converts it to Pig Latin.  If the input consists of multiple words or contains punctuation, your code should print a suitable error message. \n",
    "\n",
    "We want you to solve this problem from \"first principles,\" using what you learned about strings in lesson 5.  Do **not** use the **re** module or other regular expressions in this problem.\n",
    "\n",
    "###### Tips\n",
    "\n",
    "* If you write your piglatin code as a [function](https://www.tutorialspoint.com/python/python_functions.htm), then you'll be able to re-use it in part b!  Not required, just suggested, since it reduces code duplication and enhances readability."
   ]
  },
  {
   "cell_type": "code",
   "execution_count": 1,
   "metadata": {},
   "outputs": [],
   "source": [
    "#New Function to translate english words to pig latin words\n",
    "def translate_eng_to_pig(word_in_mixed):\n",
    "    len_word_in = len(word_in_mixed)                       #length of word in\n",
    "    len_word_out = 0                                        \n",
    "    word_in  = word_in_mixed[0:len_word_in].lower()        #set all characters to lower\n",
    "    is_first_letter_upper = 'n'                          \n",
    "    if word_in_mixed[0] == word_in_mixed[0].upper():       #check if first letter is Capitalized\n",
    "        is_first_letter_upper = 'y'\n",
    "    word_out = ''\n",
    "    vowel_list = ['a', 'e', 'i', 'o', 'u']                 #list of all vowels\n",
    "    \n",
    "    for word_count in range (0,len_word_in):               #find the position of the first vowel in the word\n",
    "        if word_in[word_count] in vowel_list:\n",
    "            vowel_position = word_count\n",
    "            break\n",
    "    \n",
    "    #If the word begins with consonants, those consonants are moved to the end of the word, followed by \"ay\":  \n",
    "    word_out = word_in[vowel_position:len_word_in] + word_in[0:vowel_position] + 'ay'   \n",
    "    \n",
    "    #If the word begins with a vowel, it is followed by \"yay\":\n",
    "    if word_in[0] in vowel_list:\n",
    "        word_out = word_in + 'yay'\n",
    "    \n",
    "    #If the word begins with \"qu\", both of these letters are moved to the end of the word, followed by \"ay\":\n",
    "    if word_in[0:2] == 'qu':\n",
    "        word_out = word_in[2:len_word_in] + word_in[0:2] + 'ay'\n",
    "    \n",
    "    len_word_out = len(word_out)                           #calc the length of the out word\n",
    "    \n",
    "    for word_count in range (0,len_word_in):               #find word contains a space, exit\n",
    "        if word_in[word_count] == ' ':                     #check if incoming word is blank\n",
    "            word_out = 'Word Cant Have A Blank'\n",
    "            is_first_letter_upper = 'n'\n",
    "    \n",
    "    if \"$\" in word_in:                                     #check if special character\n",
    "            word_out = 'Word Cant Have A Special Character'\n",
    "            is_first_letter_upper = 'n'\n",
    "    \n",
    "    #capitalization should be preserved after manipulating the word. \n",
    "    if  is_first_letter_upper == 'n':\n",
    "        return(word_out)\n",
    "    else:\n",
    "        word_out[0].upper()\n",
    "        return(word_out[0].upper() + word_out[1:len_word_out])\n",
    "    "
   ]
  },
  {
   "cell_type": "markdown",
   "metadata": {},
   "source": [
    "# Problem 1(b). Test Suite.\n",
    "\n",
    "🎯 Test your code on the following words, and be sure your output matches what is shown on the right hand side of each arrow. Print the results of each test. If your output does not match, then fix your code in 1(a). \n",
    "\n",
    "    * orange -> orangeyay\n",
    "    * yellow -> ellowyay\n",
    "    * Strip -> Ipstray\n",
    "    * quarter -> arterquay\n",
    "    * schmooze -> oozeschmay\n",
    "    * a -> ayay\n",
    "    * Pig Latin -> (should produce an error message, `sys.exit` is forbidden)\n",
    "    * Ke$ha -> (should produce an error message)\n",
    "    \n",
    "If you wrote a function for 1(a), you can just call it on these test strings.  The function `assert` can be used to help do the checks.\n",
    "    "
   ]
  },
  {
   "cell_type": "code",
   "execution_count": 2,
   "metadata": {},
   "outputs": [
    {
     "name": "stdout",
     "output_type": "stream",
     "text": [
      "orangeyay\n",
      "ellowyay\n",
      "Ipstray\n",
      "arterquay\n",
      "oozeschmay\n",
      "ayay\n",
      "Word Cant Have A Blank\n",
      "Word Cant Have A Special Character\n"
     ]
    }
   ],
   "source": [
    "test_output_1 = translate_eng_to_pig('orange')\n",
    "print(test_output_1)\n",
    "test_output_2 = translate_eng_to_pig('yellow')\n",
    "print(test_output_2)\n",
    "test_output_3 = translate_eng_to_pig('Strip')\n",
    "print(test_output_3)\n",
    "test_output_4 = translate_eng_to_pig('quarter')\n",
    "print(test_output_4)\n",
    "test_output_5 = translate_eng_to_pig('schmooze')\n",
    "print(test_output_5)\n",
    "test_output_6 = translate_eng_to_pig('a')\n",
    "print(test_output_6)\n",
    "test_output_7 = translate_eng_to_pig('Pig Latin')\n",
    "print(test_output_7)\n",
    "test_output_8 = translate_eng_to_pig('Ke$ha')\n",
    "print(test_output_8)"
   ]
  },
  {
   "cell_type": "markdown",
   "metadata": {},
   "source": [
    "---\n",
    "\n",
    "## Problem 2.  Letter Frequencies.\n",
    "\n",
    "\n",
    "The files ```encryptedA.txt``` and ```encryptedB.txt``` contain two different encrypted messages on similar topics.  One message was originally in English and one was in Welsh.  \n",
    "\n",
    "<img src=\"https://upload.wikimedia.org/wikipedia/commons/thumb/d/d5/English_letter_frequency_%28alphabetic%29.svg/600px-English_letter_frequency_%28alphabetic%29.svg.png\" width=\"300\">\n",
    "\n",
    "\n",
    "### Problem 2(a).  Letter Frequencies.\n",
    "\n",
    "🎯 Write Python code that reads a text file into memory and creates a `dict` object with a frequency count for each letter.  For example, for ```encryptedA.txt```, your output should contain the key:value pairs ```'a': 78``` and ```'b': 31 ```.  \n",
    "\n",
    "###### Notes\n",
    "* Do not distinguish between uppercase and lowercase letters.\n",
    "* Ignore punctuation.  Punctuation counts must not appear in your `dict`\n",
    "* If a given letter does not appear in the text, there must be a key:value pair with value 0. \n",
    "\n",
    "🎯 Use Python to determine which letter has the highest frequency in each text file, and print the result."
   ]
  },
  {
   "cell_type": "code",
   "execution_count": 3,
   "metadata": {},
   "outputs": [
    {
     "name": "stdout",
     "output_type": "stream",
     "text": [
      "{'a': 78, 'b': 31, 'c': 88, 'd': 28, 'e': 0, 'f': 18, 'g': 78, 'h': 0, 'i': 7, 'j': 36, 'k': 22, 'l': 32, 'm': 76, 'n': 0, 'o': 0, 'p': 0, 'q': 41, 'r': 114, 's': 0, 't': 19, 'u': 70, 'v': 27, 'w': 76, 'x': 72, 'y': 40, 'z': 16}\n",
      "{'a': 7, 'b': 3, 'c': 40, 'd': 29, 'e': 28, 'f': 1, 'g': 51, 'h': 48, 'i': 6, 'j': 19, 'k': 83, 'l': 11, 'm': 0, 'n': 79, 'o': 48, 'p': 23, 'q': 16, 'r': 2, 's': 61, 't': 31, 'u': 16, 'v': 122, 'w': 41, 'x': 93, 'y': 90, 'z': 61}\n"
     ]
    }
   ],
   "source": [
    "def letter_frequency(file_name_in):\n",
    "#Initialize Variables    \n",
    "    Alphabet = ['a','b','c','d','e','f','g','h','i','j','k','l','m','n','o','p','q','r','s','t','u','v','w','x','y','z']\n",
    "    letter_dict={}\n",
    "#Open File    \n",
    "    file_def = open(file_name_in,'r') \n",
    "    data_in = file_def.read()\n",
    "\n",
    "    import re\n",
    "    clean_data_in = re.sub('\\W+','', data_in)                         #Eliminate punctuation from dataset \n",
    "    clean_data_in_lower = clean_data_in.lower()                       #Make all characters lower\n",
    "\n",
    "    for n in Alphabet:\n",
    "        letter_dict[n] = 0                                            #Set all counts to 0  \n",
    "    for n in clean_data_in_lower:\n",
    "        letter_dict[n] += 1                                           #Increase the count if the letter is present.\n",
    "    \n",
    "    return letter_dict\n",
    "\n",
    "data_set_a = letter_frequency('encryptedA.txt')\n",
    "print(data_set_a)\n",
    "\n",
    "data_set_b = letter_frequency('encryptedB.txt')\n",
    "print(data_set_b)"
   ]
  },
  {
   "cell_type": "code",
   "execution_count": 4,
   "metadata": {},
   "outputs": [
    {
     "name": "stdout",
     "output_type": "stream",
     "text": [
      "r\n",
      "v\n"
     ]
    }
   ],
   "source": [
    "#Function that takes in a Dictionary Set of values, and returns back the maximum Key (count)\n",
    "def find_max(data_in):\n",
    "    import operator\n",
    "    data_out = max(data_in.items(), key=operator.itemgetter(1))[0]  #Taking advantage of operator.itemgetter function\n",
    "    return(data_out)\n",
    "\n",
    "output_a = find_max(data_set_a)\n",
    "print(output_a)\n",
    "output_b = find_max(data_set_b)\n",
    "print(output_b)\n"
   ]
  },
  {
   "cell_type": "markdown",
   "metadata": {},
   "source": [
    "### Problem 2(b).  Formatting for R.\n",
    "\n",
    "🎯 Write your two dictionaries with frequency counts from 2(a) to a pair of suitably named `.csv` files, with one column for the key and one column for the frequency counted."
   ]
  },
  {
   "cell_type": "code",
   "execution_count": 5,
   "metadata": {},
   "outputs": [],
   "source": [
    "#Function that takes in a Data Set, and a File Name.   Then writes the data to the file name provided.\n",
    "def write_data(data_in,file_name):\n",
    "    file_def = open(file_name,'w') \n",
    "    file_def.write(str(data_in))\n",
    "    file_def.close\n",
    "    return()"
   ]
  },
  {
   "cell_type": "code",
   "execution_count": 6,
   "metadata": {},
   "outputs": [
    {
     "data": {
      "text/plain": [
       "()"
      ]
     },
     "execution_count": 6,
     "metadata": {},
     "output_type": "execute_result"
    }
   ],
   "source": [
    "write_data(data_set_a,'data_a_out.txt')\n",
    "\n",
    "write_data(data_set_b,'data_b_out.txt')"
   ]
  }
 ],
 "metadata": {
  "anaconda-cloud": {},
  "kernelspec": {
   "display_name": "Python 3",
   "language": "python",
   "name": "python3"
  },
  "language_info": {
   "codemirror_mode": {
    "name": "ipython",
    "version": 3
   },
   "file_extension": ".py",
   "mimetype": "text/x-python",
   "name": "python",
   "nbconvert_exporter": "python",
   "pygments_lexer": "ipython3",
   "version": "3.6.5"
  }
 },
 "nbformat": 4,
 "nbformat_minor": 1
}
